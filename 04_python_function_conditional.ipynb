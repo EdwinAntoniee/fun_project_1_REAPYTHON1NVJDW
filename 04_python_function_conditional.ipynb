{
  "cells": [
    {
      "cell_type": "markdown",
      "metadata": {
        "id": "mQeafn7E2NAR"
      },
      "source": []
    },
    {
      "cell_type": "markdown",
      "metadata": {
        "id": "ktdsuIZn2NAT"
      },
      "source": [
        "# Function & Condition"
      ]
    },
    {
      "cell_type": "markdown",
      "metadata": {
        "id": "ox3ZP4m62NAV"
      },
      "source": [
        "## **Function**\n",
        "### **Apa Itu Fungsi (Function)?**\n",
        "Fungsi adalah blok kode yang hanya akan dijalankan ketika dipanggil. Tujuannya adalah agar kita bisa menulis kode yang lebih rapih, efisien, dan tidak berulang-ulang.\n",
        "\n",
        "### **Kenapa Fungsi Penting?**\n",
        "\t- Menghindari penulisan kode berulang (Don’t Repeat Yourself/DRY)\n",
        "\t- Membuat program lebih modular dan mudah dikelola\n",
        "\t- Meningkatkan keterbacaan dan debugging\n",
        "\n",
        "### **Struktur Dasar Fungsi**\n",
        "```py\n",
        "def nama_fungsi(parameter1, parameter2):\n",
        "    # kode program\n",
        "    return hasil\n",
        "```\n",
        "\n",
        "  \t- def → keyword untuk mendefinisikan fungsi\n",
        "  \t- parameter → nilai input (optional)\n",
        "  \t- return → nilai keluaran (optional)\n"
      ]
    },
    {
      "cell_type": "markdown",
      "metadata": {
        "id": "DkU-O6_b2NAW"
      },
      "source": [
        "### Macam-Macam Fungsi\n",
        "#### 1. Fungsi Tanpa Parameter dan Return"
      ]
    },
    {
      "cell_type": "code",
      "execution_count": null,
      "metadata": {
        "id": "kP-bA-ET2NAX"
      },
      "outputs": [],
      "source": [
        "def tampilkan_welcome():\n",
        "    print(\"Selamat datang di Quiz App!\")"
      ]
    },
    {
      "cell_type": "markdown",
      "metadata": {
        "id": "z2zUz9OB2NAX"
      },
      "source": [
        "#### 2. Fungsi Dengan Parameter"
      ]
    },
    {
      "cell_type": "code",
      "execution_count": null,
      "metadata": {
        "id": "m91NXosQ2NAY"
      },
      "outputs": [],
      "source": [
        "def sapa_user(nama):\n",
        "    print(f\"Halo {nama}, siap mengikuti quiz?\")"
      ]
    },
    {
      "cell_type": "markdown",
      "metadata": {
        "id": "R6w-uTG02NAY"
      },
      "source": [
        "#### 3. Fungsi Dengan Return"
      ]
    },
    {
      "cell_type": "code",
      "execution_count": null,
      "metadata": {
        "id": "bULkPs7x2NAY"
      },
      "outputs": [],
      "source": [
        "def cek_jawaban(user, benar):\n",
        "    if user.lower() == benar.lower():\n",
        "        return 1\n",
        "    else:\n",
        "        return 0"
      ]
    },
    {
      "cell_type": "markdown",
      "metadata": {
        "id": "oMvPNoeu2NAZ"
      },
      "source": [
        "## Conditional\n",
        "Conditional statements adalah cara kita memberi tahu komputer untuk mengambil keputusan berdasarkan kondisi tertentu.\n",
        "\n",
        "Bayangkan kamu sedang bersiap keluar rumah:\n",
        "\n",
        "If hujan 🌧️ → bawa payung ☂️\n",
        "\n",
        "Else (tidak hujan) 🌤️ → langsung jalan 🚶‍♀️"
      ]
    },
    {
      "cell_type": "markdown",
      "metadata": {
        "id": "jFSDKH0e2NAZ"
      },
      "source": [
        "Secara umum, ada beberapa jenis conditional statements dalam Python:\n",
        "\n",
        "**If** statement — untuk menjalankan kode jika suatu kondisi benar.\n",
        "\n",
        "**If-Else** statement — untuk menangani dua kemungkinan: benar atau salah.\n",
        "\n",
        "**If-Elif-Else** statement — untuk memeriksa beberapa kondisi secara berurutan.\n",
        "\n",
        "**Nested If** statement — untuk kondisi bertingkat atau bercabang."
      ]
    },
    {
      "cell_type": "markdown",
      "metadata": {
        "id": "m_ivCAv62NAZ"
      },
      "source": [
        "### `if`\n",
        "\n",
        "Apa itu if statement?\n",
        "\n",
        "if statement digunakan untuk menjalankan kode hanya jika suatu kondisi **benar** (**True**). Jika kondisinya salah (False), kode di dalam if akan dilewati.\n",
        "\n",
        "Format dasarnya:\n",
        "\n",
        "\n",
        "\n",
        "```\n",
        "if kondisi:\n",
        "    # kode yang akan dijalankan jika kondisi True\n",
        "\n",
        "```\n",
        "\n",
        "\n",
        "\n",
        "\n",
        "\n",
        "Contoh:\n",
        "```\n",
        "angka = 10\n",
        "if angka > 5:\n",
        "    print(\"Angka ini lebih besar dari 5!\")\n",
        "```\n",
        "\n",
        "📝 Penjelasan:\n",
        "\n",
        "Komputer akan **mengecek apakah angka > 5**.\n",
        "Karena 10 memang lebih besar dari 5, maka perintah di dalam if akan dieksekusi.\n",
        "\n",
        "\n",
        "Output:\n",
        "\n",
        "`Angka ini lebih besar dari 5!`"
      ]
    },
    {
      "cell_type": "markdown",
      "metadata": {
        "id": "trTjGCr12NAZ"
      },
      "source": [
        "### `if` - `else`\n",
        "\n",
        "Apa itu if-else statement?\n",
        "\n",
        "Terkadang, kita juga butuh pilihan kedua jika kondisi pertama tidak terpenuhi. Nah, di sinilah else digunakan.\n",
        "\n",
        "Format dasarnya:\n",
        "\n",
        "\n",
        "\n",
        "```\n",
        "if kondisi:\n",
        "    # kode jika kondisi True\n",
        "else:\n",
        "    # kode jika kondisi False\n",
        "```\n",
        "\n",
        "contoh:\n",
        "\n",
        "\n",
        "```\n",
        "cuaca = \"hujan\"\n",
        "\n",
        "if cuaca == \"hujan\":\n",
        "    print(\"Bawa payung!\")\n",
        "else:\n",
        "    print(\"Nggak perlu payung!\")\n",
        "```\n",
        "\n",
        "📝 Penjelasan:\n",
        "Jika variabel cuaca berisi \"**hujan**\", program akan mencetak \"**Bawa payung!**\". Kalau tidak, akan mencetak \"Nggak perlu payung!\".\n",
        "\n",
        "Output:\n",
        "\n",
        "\n",
        "```\n",
        "Bawa payung!\n",
        "```\n",
        "\n",
        "\n"
      ]
    },
    {
      "cell_type": "markdown",
      "metadata": {
        "id": "X6gIGo-y2NAZ"
      },
      "source": [
        "### `if` - `elif` - `else`\n",
        "\n",
        "Kalau kita punya lebih dari dua pilihan, kita bisa pakai **elif** (else if). Ini berguna untuk mengatur banyak kondisi sekaligus.\n",
        "\n",
        "`elif` adalah kata kunci yang merupakan singkatan dari `else if`. Ini adalah cara untuk menambahkan kondisi lain ke conditional kita.\n",
        "\n",
        "\n",
        "\n",
        "Format dasarnya:\n",
        "\n",
        "\n",
        "```\n",
        "if kondisi_1:\n",
        "    # kode jika kondisi_1 True\n",
        "elif kondisi_2:\n",
        "    # kode jika kondisi_2 True\n",
        "else:\n",
        "    # kode jika semua kondisi False\n",
        "```\n",
        "\n",
        "Contoh:\n",
        "\n",
        "\n",
        "```\n",
        "nilai = 85\n",
        "\n",
        "if nilai >= 90:\n",
        "    print(\"Nilai kamu: A\")\n",
        "elif nilai >= 75:\n",
        "    print(\"Nilai kamu: B\")\n",
        "else:\n",
        "    print(\"Nilai kamu: C\")\n",
        "```\n",
        "\n",
        "📝 Penjelasan:\n",
        "\n",
        "Program akan mengecek satu per satu:\n",
        "\n",
        "Apakah nilai >= 90? Wah ternyata **salah** nih!\n",
        "\n",
        "Apakah nilai >= 75? **Benar** — jadi akan mencetak \"**Nilai kamu: B**\".\n",
        "\n",
        "Output:\n",
        "\n",
        "\n",
        "```\n",
        "Nilai kamu: B\n",
        "```\n",
        "\n"
      ]
    },
    {
      "cell_type": "markdown",
      "metadata": {
        "id": "w7YjH53b2NAa"
      },
      "source": [
        "\n",
        "### Operator Perbandingan\n",
        "\n",
        "| Operator | Arti                  | Contoh         |\n",
        "|----------|-----------------------|----------------|\n",
        "| `==`     | Sama dengan           | `a == b`       |\n",
        "| `!=`     | Tidak sama dengan     | `a != b`       |\n",
        "| `>`      | Lebih besar dari      | `a > b`        |\n",
        "| `<`      | Lebih kecil dari      | `a < b`        |\n",
        "| `>=`     | Lebih besar atau sama | `a >= b`       |\n",
        "| `<=`     | Lebih kecil atau sama | `a <= b`       |\n"
      ]
    },
    {
      "cell_type": "markdown",
      "metadata": {
        "id": "GkeURgs42NAa"
      },
      "source": [
        "\n",
        "### Operator Logika\n",
        "\n",
        "Kadang kita ingin mengecek lebih dari satu kondisi sekaligus. Untuk itu kita bisa menggunakan:\n",
        "\n",
        "- `and`: Kedua kondisi harus benar\n",
        "- `or`: Salah satu kondisi cukup benar\n",
        "- `not`: Membalik nilai kondisi\n",
        "\n",
        "Contoh:\n",
        "\n",
        "```python\n",
        "umur = 20\n",
        "punya_ktp = True\n",
        "\n",
        "if umur >= 17 and punya_ktp:\n",
        "    print(\"Boleh ikut pemilu\")\n",
        "```\n"
      ]
    },
    {
      "cell_type": "markdown",
      "metadata": {
        "id": "HMHJjGhE2NAa"
      },
      "source": [
        "\n",
        "### Studi Kasus: Kuis Pilihan Ganda\n",
        "\n",
        "Misalkan kamu sedang membuat quiz. Jika jawaban user adalah \"B\", maka tampilkan \"Jawaban benar!\".\n"
      ]
    },
    {
      "cell_type": "code",
      "execution_count": null,
      "metadata": {
        "id": "wl0K819_2NAa",
        "outputId": "1895626a-60ca-4883-fa22-5250e285564e"
      },
      "outputs": [
        {
          "name": "stdout",
          "output_type": "stream",
          "text": [
            "Jawaban benar!\n"
          ]
        }
      ],
      "source": [
        "jawaban = \"B\"\n",
        "\n",
        "if jawaban == \"B\":\n",
        "    print(\"Jawaban benar!\")\n",
        "else:\n",
        "    print(\"Jawaban salah, coba lagi.\")"
      ]
    },
    {
      "cell_type": "markdown",
      "metadata": {
        "id": "TvVF6Ln92NAa"
      },
      "source": [
        "# Tantangan\n",
        "Yuk kerjakan beberapa tantangan di bawah ini! Sebelum mengerjakan tantangan, jangan lupa masukkan student ID kamu ya!"
      ]
    },
    {
      "cell_type": "code",
      "execution_count": 1,
      "metadata": {
        "id": "DVAo_eG02NAb"
      },
      "outputs": [
        {
          "name": "stdout",
          "output_type": "stream",
          "text": [
            "Collecting rggrader\n",
            "  Using cached rggrader-0.1.6-py3-none-any.whl.metadata (485 bytes)\n",
            "Requirement already satisfied: requests in c:\\users\\edwin antonie\\anaconda3\\lib\\site-packages (from rggrader) (2.32.2)\n",
            "Requirement already satisfied: pandas in c:\\users\\edwin antonie\\anaconda3\\lib\\site-packages (from rggrader) (2.2.2)\n",
            "Requirement already satisfied: Pillow in c:\\users\\edwin antonie\\anaconda3\\lib\\site-packages (from rggrader) (10.3.0)\n",
            "Requirement already satisfied: numpy>=1.26.0 in c:\\users\\edwin antonie\\anaconda3\\lib\\site-packages (from pandas->rggrader) (1.26.4)\n",
            "Requirement already satisfied: python-dateutil>=2.8.2 in c:\\users\\edwin antonie\\anaconda3\\lib\\site-packages (from pandas->rggrader) (2.9.0.post0)\n",
            "Requirement already satisfied: pytz>=2020.1 in c:\\users\\edwin antonie\\anaconda3\\lib\\site-packages (from pandas->rggrader) (2024.1)\n",
            "Requirement already satisfied: tzdata>=2022.7 in c:\\users\\edwin antonie\\anaconda3\\lib\\site-packages (from pandas->rggrader) (2023.3)\n",
            "Requirement already satisfied: charset-normalizer<4,>=2 in c:\\users\\edwin antonie\\anaconda3\\lib\\site-packages (from requests->rggrader) (2.0.4)\n",
            "Requirement already satisfied: idna<4,>=2.5 in c:\\users\\edwin antonie\\anaconda3\\lib\\site-packages (from requests->rggrader) (3.7)\n",
            "Requirement already satisfied: urllib3<3,>=1.21.1 in c:\\users\\edwin antonie\\anaconda3\\lib\\site-packages (from requests->rggrader) (2.2.2)\n",
            "Requirement already satisfied: certifi>=2017.4.17 in c:\\users\\edwin antonie\\anaconda3\\lib\\site-packages (from requests->rggrader) (2024.6.2)\n",
            "Requirement already satisfied: six>=1.5 in c:\\users\\edwin antonie\\anaconda3\\lib\\site-packages (from python-dateutil>=2.8.2->pandas->rggrader) (1.16.0)\n",
            "Using cached rggrader-0.1.6-py3-none-any.whl (2.5 kB)\n",
            "Installing collected packages: rggrader\n",
            "Successfully installed rggrader-0.1.6\n",
            "Note: you may need to restart the kernel to use updated packages.\n"
          ]
        }
      ],
      "source": [
        "%pip install rggrader\n",
        "\n",
        "from rggrader import submit\n",
        "\n",
        "# @title #### Student Identity\n",
        "student_id = \"REAPYTHON1NVJDW\"  # @param {type:\"string\"}\n",
        "name = \"Edwin Antonie\"  # @param {type:\"string\"}"
      ]
    },
    {
      "cell_type": "markdown",
      "metadata": {
        "id": "RG7hZ5X_2NAb"
      },
      "source": [
        "## Tantangan 1 - Circle Area Function"
      ]
    },
    {
      "cell_type": "code",
      "execution_count": 2,
      "metadata": {
        "id": "JbwFdkPq2NAb"
      },
      "outputs": [
        {
          "name": "stdout",
          "output_type": "stream",
          "text": [
            "The area of the circle with radius 5 is 78.53981633974483\n"
          ]
        },
        {
          "data": {
            "text/plain": [
              "'Assignment successfully submitted'"
            ]
          },
          "execution_count": 2,
          "metadata": {},
          "output_type": "execute_result"
        }
      ],
      "source": [
        "# @title #### 00. Circle Area Function\n",
        "from rggrader import submit\n",
        "import math\n",
        "\n",
        "rad = 5\n",
        "\n",
        "# TODO: Define a function 'calculate_area' that takes a radius as a parameter and returns the area of a circle with that radius.\n",
        "def calculate_circle_area(radius):\n",
        "    # Put your code here:\n",
        "    if radius > 0:\n",
        "        return math.pi * radius ** 2\n",
        "    else:\n",
        "        return 0\n",
        "    # ---- End of your code ----\n",
        "\n",
        "print(f\"The area of the circle with radius {rad} is {calculate_circle_area(rad)}\")\n",
        "\n",
        "# Submit Method\n",
        "assignment_id = \"04-function-conditional\"\n",
        "question_id = \"01_circle-area-function\"\n",
        "submit(student_id, name, assignment_id, str(calculate_circle_area(rad)), question_id)\n",
        "\n",
        "# Expected Output for rad=5: 78.53981633974483"
      ]
    },
    {
      "cell_type": "markdown",
      "metadata": {
        "id": "bI5tJRoL2NAb"
      },
      "source": [
        "## Tantangan 2 - Pengecek Ganjil atau Genap"
      ]
    },
    {
      "cell_type": "code",
      "execution_count": 3,
      "metadata": {
        "id": "-l4bXoiK2NAb"
      },
      "outputs": [
        {
          "name": "stdout",
          "output_type": "stream",
          "text": [
            "Angka 37 adalah Ganjil\n"
          ]
        },
        {
          "data": {
            "text/plain": [
              "'Assignment successfully submitted'"
            ]
          },
          "execution_count": 3,
          "metadata": {},
          "output_type": "execute_result"
        }
      ],
      "source": [
        "from rggrader import submit\n",
        "\n",
        "num = 37\n",
        "\n",
        "# TODO: Buatlah sebuah fungsi bernama 'check_odd_even' yang menerima satu parameter berupa bilangan bulat.\n",
        "# Fungsi harus mengembalikan string \"Genap\" jika angka tersebut genap, dan \"Ganjil\" jika angka tersebut ganjil.\n",
        "\n",
        "def check_odd_even(number):\n",
        "    # Put your code here:\n",
        "    if number % 2 == 0:\n",
        "        return \"Genap\"\n",
        "    elif number % 2 != 0:\n",
        "        return \"Ganjil\"\n",
        "    else:\n",
        "        return \"Undefined\"\n",
        "\n",
        "    # ---- End of your code ----\n",
        "\n",
        "print(f\"Angka {num} adalah {check_odd_even(num)}\")\n",
        "\n",
        "# Submit Method\n",
        "assignment_id = \"04-function-conditional\"\n",
        "question_id = \"02_odd-even-checker\"\n",
        "submit(student_id, name, assignment_id, str(check_odd_even(num)), question_id)\n",
        "\n",
        "# Expected Output jika num = 37:\n",
        "# Angka 37 adalah Ganjil\n"
      ]
    }
  ],
  "metadata": {
    "colab": {
      "provenance": []
    },
    "kernelspec": {
      "display_name": "base",
      "language": "python",
      "name": "python3"
    },
    "language_info": {
      "codemirror_mode": {
        "name": "ipython",
        "version": 3
      },
      "file_extension": ".py",
      "mimetype": "text/x-python",
      "name": "python",
      "nbconvert_exporter": "python",
      "pygments_lexer": "ipython3",
      "version": "3.12.4"
    }
  },
  "nbformat": 4,
  "nbformat_minor": 0
}
