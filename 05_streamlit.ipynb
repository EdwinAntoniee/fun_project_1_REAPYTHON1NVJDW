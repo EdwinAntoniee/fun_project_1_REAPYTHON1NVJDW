{
  "cells": [
    {
      "cell_type": "markdown",
      "id": "9f8d21c8",
      "metadata": {
        "id": "9f8d21c8"
      },
      "source": [
        "# Building UI in Python dengan Streamlit\n",
        "Streamlit adalah library Python open-source yang digunakan untuk membuat antarmuka pengguna (UI) berbasis web dengan cepat dan mudah. Dengan hanya beberapa baris kode Python, kamu bisa membuat dashboard interaktif, aplikasi data science, bahkan aplikasi berbasis AI."
      ]
    },
    {
      "cell_type": "markdown",
      "id": "982ae992",
      "metadata": {
        "id": "982ae992"
      },
      "source": [
        "## Kenapa Streamlit?\n",
        "- Gak perlu tahu HTML, CSS, atau JavaScript.\n",
        "- Semudah nulis script Python biasa.\n",
        "- Bisa langsung melihat hasilnya secara real-time di browser.\n",
        "- Cocok untuk prototipe aplikasi atau project akhir.\n"
      ]
    },
    {
      "cell_type": "markdown",
      "id": "8612d028",
      "metadata": {
        "id": "8612d028"
      },
      "source": [
        "## Instalasi & Setup Awal\n",
        "### 1. Instalasi Streamlit\n",
        "Sebelum mulai, pastikan Python dan pip sudah terinstall. Kalau belum, bisa install Python dari https://python.org.\n",
        "Lalu install Streamlit lewat terminal / command prompt:\n",
        "```\n",
        "    pip install streamlit\n",
        "```\n",
        "\n",
        "### 2. Cek Instalasi\n",
        "Setelah selesai, jalankan:\n",
        "```\n",
        "    streamlit hello\n",
        "```\n",
        "Kalau berhasil, akan terbuka jendela browser dengan demo Streamlit."
      ]
    },
    {
      "cell_type": "markdown",
      "id": "8ecd4b32",
      "metadata": {
        "id": "8ecd4b32"
      },
      "source": [
        "## Membuat UI Komponen Dasar\n",
        "Kita akan mulai dengan file Python sederhana. Buat file `app.py` dan isi seperti ini:"
      ]
    },
    {
      "cell_type": "code",
      "execution_count": 2,
      "id": "41cd0abf",
      "metadata": {
        "id": "41cd0abf"
      },
      "outputs": [
        {
          "name": "stderr",
          "output_type": "stream",
          "text": [
            "2025-05-09 20:50:08.487 WARNING streamlit.runtime.scriptrunner_utils.script_run_context: Thread 'MainThread': missing ScriptRunContext! This warning can be ignored when running in bare mode.\n",
            "2025-05-09 20:50:08.809 \n",
            "  \u001b[33m\u001b[1mWarning:\u001b[0m to view this Streamlit app on a browser, run it with the following\n",
            "  command:\n",
            "\n",
            "    streamlit run c:\\Users\\Edwin Antonie\\Documents\\BelajarAI\\REA\\Week1\\myenv\\Lib\\site-packages\\ipykernel_launcher.py [ARGUMENTS]\n",
            "2025-05-09 20:50:08.811 Thread 'MainThread': missing ScriptRunContext! This warning can be ignored when running in bare mode.\n",
            "2025-05-09 20:50:08.812 Thread 'MainThread': missing ScriptRunContext! This warning can be ignored when running in bare mode.\n",
            "2025-05-09 20:50:08.813 Thread 'MainThread': missing ScriptRunContext! This warning can be ignored when running in bare mode.\n",
            "2025-05-09 20:50:08.814 Thread 'MainThread': missing ScriptRunContext! This warning can be ignored when running in bare mode.\n",
            "2025-05-09 20:50:08.814 Thread 'MainThread': missing ScriptRunContext! This warning can be ignored when running in bare mode.\n",
            "2025-05-09 20:50:08.816 Thread 'MainThread': missing ScriptRunContext! This warning can be ignored when running in bare mode.\n",
            "2025-05-09 20:50:08.816 Thread 'MainThread': missing ScriptRunContext! This warning can be ignored when running in bare mode.\n",
            "2025-05-09 20:50:08.817 Session state does not function when running a script without `streamlit run`\n",
            "2025-05-09 20:50:08.818 Thread 'MainThread': missing ScriptRunContext! This warning can be ignored when running in bare mode.\n",
            "2025-05-09 20:50:08.818 Thread 'MainThread': missing ScriptRunContext! This warning can be ignored when running in bare mode.\n",
            "2025-05-09 20:50:08.819 Thread 'MainThread': missing ScriptRunContext! This warning can be ignored when running in bare mode.\n",
            "2025-05-09 20:50:08.819 Thread 'MainThread': missing ScriptRunContext! This warning can be ignored when running in bare mode.\n",
            "2025-05-09 20:50:08.820 Thread 'MainThread': missing ScriptRunContext! This warning can be ignored when running in bare mode.\n",
            "2025-05-09 20:50:08.820 Thread 'MainThread': missing ScriptRunContext! This warning can be ignored when running in bare mode.\n",
            "2025-05-09 20:50:08.821 Thread 'MainThread': missing ScriptRunContext! This warning can be ignored when running in bare mode.\n"
          ]
        }
      ],
      "source": [
        "import streamlit as st\n",
        "\n",
        "# Judul aplikasi\n",
        "st.title(\"Aplikasi Quiz Sederhana\")\n",
        "\n",
        "# Teks biasa\n",
        "st.write(\"Selamat datang di aplikasi quiz!\")\n",
        "\n",
        "# Input teks\n",
        "name = st.text_input(\"Masukkan nama kamu:\")\n",
        "\n",
        "# Tombol\n",
        "if st.button(\"Mulai Quiz\"):\n",
        "    st.write(f\"Halo, {name}! Ayo kita mulai kuisnya.\")"
      ]
    },
    {
      "cell_type": "markdown",
      "id": "803a46a5",
      "metadata": {
        "id": "803a46a5"
      },
      "source": [
        "setelah membuat file `app.py` jalankan perintah `streamlit run app.py` di terminal"
      ]
    },
    {
      "cell_type": "markdown",
      "id": "0d703389",
      "metadata": {
        "id": "0d703389"
      },
      "source": [
        "penjelasan komponen\n",
        "| **Komponen**       | **Fungsi**                                                                 |\n",
        "|--------------------|----------------------------------------------------------------------------|\n",
        "| `st.title()`        | Menampilkan **judul besar** di halaman aplikasi.                          |\n",
        "| `st.write()`        | Menampilkan **teks biasa**, angka, dataframe, atau objek Python lainnya.   |\n",
        "| `st.text_input()`   | Membuat **input teks** dari pengguna.                                      |\n",
        "| `st.button()`       | Membuat **tombol**, biasanya dikombinasikan dengan `if` untuk aksi tertentu.|\n"
      ]
    },
    {
      "cell_type": "markdown",
      "id": "0ab66903",
      "metadata": {
        "id": "0ab66903"
      },
      "source": [
        "## Komponen Tambahan (Gambar, Radio Button, dll)\n",
        "Kita bisa tambahkan gambar, radio button, dan lainnya:"
      ]
    },
    {
      "cell_type": "code",
      "execution_count": null,
      "id": "35cd2169",
      "metadata": {
        "id": "35cd2169"
      },
      "outputs": [],
      "source": [
        "st.image(\"logo.png\", caption=\"Logo Quiz\", width=200)\n",
        "\n",
        "question = \"Apa ibu kota Indonesia?\"\n",
        "options = [\"Jakarta\", \"Bandung\", \"Surabaya\"]\n",
        "\n",
        "answer = st.radio(question, options)\n",
        "\n",
        "if st.button(\"Submit Jawaban\"):\n",
        "    if answer == \"Jakarta\":\n",
        "        st.success(\"Jawaban kamu benar!\")\n",
        "    else:\n",
        "        st.error(\"Jawaban salah, coba lagi!\")"
      ]
    },
    {
      "cell_type": "markdown",
      "id": "cc78908f",
      "metadata": {
        "id": "cc78908f"
      },
      "source": [
        "Penjelasan komponen\n",
        "| **Komponen**            | **Fungsi**                                                                      |\n",
        "|-------------------------|----------------------------------------------------------------------------------|\n",
        "| `st.image()`            | Menampilkan **gambar** dari file lokal atau URL.                                |\n",
        "| `st.radio()`            | Menampilkan **pilihan ganda** (radio button) yang hanya bisa memilih satu opsi. |\n",
        "| `st.success()`          | Menampilkan pesan sukses dengan **feedback visual berwarna hijau**.             |\n",
        "| `st.error()`            | Menampilkan pesan error dengan **feedback visual berwarna merah**.              |"
      ]
    },
    {
      "cell_type": "markdown",
      "id": "852082da",
      "metadata": {
        "id": "852082da"
      },
      "source": [
        "## Menjalankan & Deploy Aplikasi\n",
        "\n",
        "### Jalankan Aplikasi:\n",
        "Setelah menyimpan file app.py, jalankan perintah ini di terminal:\n",
        "`streamlit run app.py`\n",
        "\n",
        "Browser akan terbuka otomatis dengan aplikasi quiz kamu.\n",
        "\n",
        "### Deploy Aplikasi:\n",
        "Kamu bisa deploy aplikasi kamu secara gratis dengan:\n",
        "Streamlit Community Cloud: https://streamlit.io/cloud\n",
        "Langkah:\n",
        "- Push kodenya ke GitHub\n",
        "- Login ke Streamlit Cloud\n",
        "- Hubungkan repo GitHub kamu\n",
        "- Klik “Deploy”\n"
      ]
    },
    {
      "cell_type": "markdown",
      "id": "f3770652",
      "metadata": {
        "id": "f3770652"
      },
      "source": [
        "## Studi Kasus\n",
        "Membuat Pertanyaan Quiz Dinamis\n"
      ]
    },
    {
      "cell_type": "code",
      "execution_count": 1,
      "id": "bad378ef",
      "metadata": {
        "id": "bad378ef"
      },
      "outputs": [
        {
          "ename": "NameError",
          "evalue": "name 'st' is not defined",
          "output_type": "error",
          "traceback": [
            "\u001b[31m---------------------------------------------------------------------------\u001b[39m",
            "\u001b[31mNameError\u001b[39m                                 Traceback (most recent call last)",
            "\u001b[36mCell\u001b[39m\u001b[36m \u001b[39m\u001b[32mIn[1]\u001b[39m\u001b[32m, line 10\u001b[39m\n\u001b[32m      3\u001b[39m qna = {\n\u001b[32m      4\u001b[39m     \u001b[33m\"\u001b[39m\u001b[33m1 + 1 = ?\u001b[39m\u001b[33m\"\u001b[39m: \u001b[33m\"\u001b[39m\u001b[33m2\u001b[39m\u001b[33m\"\u001b[39m,\n\u001b[32m      5\u001b[39m     \u001b[33m\"\u001b[39m\u001b[33mHewan berkaki 8?\u001b[39m\u001b[33m\"\u001b[39m: \u001b[33m\"\u001b[39m\u001b[33mLaba-laba\u001b[39m\u001b[33m\"\u001b[39m,\n\u001b[32m      6\u001b[39m     \u001b[33m\"\u001b[39m\u001b[33mBahasa pemrograman populer untuk AI?\u001b[39m\u001b[33m\"\u001b[39m: \u001b[33m\"\u001b[39m\u001b[33mPython\u001b[39m\u001b[33m\"\u001b[39m\n\u001b[32m      7\u001b[39m }\n\u001b[32m      9\u001b[39m \u001b[38;5;28;01mfor\u001b[39;00m q, a \u001b[38;5;129;01min\u001b[39;00m qna.items():\n\u001b[32m---> \u001b[39m\u001b[32m10\u001b[39m     user_answer = \u001b[43mst\u001b[49m.text_input(q, key=q)\n\u001b[32m     11\u001b[39m     \u001b[38;5;28;01mif\u001b[39;00m user_answer:\n\u001b[32m     12\u001b[39m         \u001b[38;5;28;01mif\u001b[39;00m user_answer.lower() == a.lower():\n",
            "\u001b[31mNameError\u001b[39m: name 'st' is not defined"
          ]
        }
      ],
      "source": [
        "score = 0\n",
        "\n",
        "qna = {\n",
        "    \"1 + 1 = ?\": \"2\",\n",
        "    \"Hewan berkaki 8?\": \"Laba-laba\",\n",
        "    \"Bahasa pemrograman populer untuk AI?\": \"Python\"\n",
        "}\n",
        "\n",
        "for q, a in qna.items():\n",
        "    user_answer = st.text_input(q, key=q)\n",
        "    if user_answer:\n",
        "        if user_answer.lower() == a.lower():\n",
        "            st.success(\"Benar!\")\n",
        "            score += 1\n",
        "        else:\n",
        "            st.warning(\"Salah!\")\n",
        "\n",
        "if st.button(\"Lihat Skor\"):\n",
        "    st.write(f\"Skor akhir kamu adalah: {score} dari {len(qna)}\")"
      ]
    },
    {
      "cell_type": "markdown",
      "id": "431d1790",
      "metadata": {
        "id": "431d1790"
      },
      "source": [
        "# Tantangan\n",
        "Yuk kerjakan tantangan di bawah ini! Sebelum mengerjakan tantangan, jangan lupa masukkan student ID kamu ya!"
      ]
    },
    {
      "cell_type": "code",
      "execution_count": 3,
      "id": "6ad04041",
      "metadata": {
        "id": "6ad04041"
      },
      "outputs": [
        {
          "name": "stdout",
          "output_type": "stream",
          "text": [
            "Requirement already satisfied: rggrader in c:\\users\\edwin antonie\\documents\\belajarai\\rea\\week1\\myenv\\lib\\site-packages (0.1.6)\n",
            "Requirement already satisfied: requests in c:\\users\\edwin antonie\\documents\\belajarai\\rea\\week1\\myenv\\lib\\site-packages (from rggrader) (2.32.3)\n",
            "Requirement already satisfied: pandas in c:\\users\\edwin antonie\\documents\\belajarai\\rea\\week1\\myenv\\lib\\site-packages (from rggrader) (2.2.3)\n",
            "Requirement already satisfied: Pillow in c:\\users\\edwin antonie\\documents\\belajarai\\rea\\week1\\myenv\\lib\\site-packages (from rggrader) (11.2.1)\n",
            "Requirement already satisfied: numpy>=1.26.0 in c:\\users\\edwin antonie\\documents\\belajarai\\rea\\week1\\myenv\\lib\\site-packages (from pandas->rggrader) (2.2.5)\n",
            "Requirement already satisfied: python-dateutil>=2.8.2 in c:\\users\\edwin antonie\\documents\\belajarai\\rea\\week1\\myenv\\lib\\site-packages (from pandas->rggrader) (2.9.0.post0)\n",
            "Requirement already satisfied: pytz>=2020.1 in c:\\users\\edwin antonie\\documents\\belajarai\\rea\\week1\\myenv\\lib\\site-packages (from pandas->rggrader) (2025.2)\n",
            "Requirement already satisfied: tzdata>=2022.7 in c:\\users\\edwin antonie\\documents\\belajarai\\rea\\week1\\myenv\\lib\\site-packages (from pandas->rggrader) (2025.2)\n",
            "Requirement already satisfied: six>=1.5 in c:\\users\\edwin antonie\\documents\\belajarai\\rea\\week1\\myenv\\lib\\site-packages (from python-dateutil>=2.8.2->pandas->rggrader) (1.17.0)\n",
            "Requirement already satisfied: charset-normalizer<4,>=2 in c:\\users\\edwin antonie\\documents\\belajarai\\rea\\week1\\myenv\\lib\\site-packages (from requests->rggrader) (3.4.2)\n",
            "Requirement already satisfied: idna<4,>=2.5 in c:\\users\\edwin antonie\\documents\\belajarai\\rea\\week1\\myenv\\lib\\site-packages (from requests->rggrader) (3.10)\n",
            "Requirement already satisfied: urllib3<3,>=1.21.1 in c:\\users\\edwin antonie\\documents\\belajarai\\rea\\week1\\myenv\\lib\\site-packages (from requests->rggrader) (2.4.0)\n",
            "Requirement already satisfied: certifi>=2017.4.17 in c:\\users\\edwin antonie\\documents\\belajarai\\rea\\week1\\myenv\\lib\\site-packages (from requests->rggrader) (2025.4.26)\n",
            "Note: you may need to restart the kernel to use updated packages.\n"
          ]
        }
      ],
      "source": [
        "%pip install rggrader\n",
        "\n",
        "from rggrader import submit\n",
        "\n",
        "# @title #### Student Identity\n",
        "student_id = \"REAPYTHON1NVJDW\"  # @param {type:\"string\"}\n",
        "name = \"Edwin Antonie\"  # @param {type:\"string\"}"
      ]
    },
    {
      "cell_type": "markdown",
      "id": "67fa4224",
      "metadata": {
        "id": "67fa4224"
      },
      "source": [
        "## Tantangan 1 - Menebak Komponen Streamlit yang Tepat"
      ]
    },
    {
      "cell_type": "code",
      "execution_count": 4,
      "id": "cc5047cd",
      "metadata": {
        "id": "cc5047cd"
      },
      "outputs": [
        {
          "name": "stdout",
          "output_type": "stream",
          "text": [
            "Soal 1: st.text_input\n",
            "Soal 2: st.button\n",
            "Soal 3: st.selectbox\n"
          ]
        },
        {
          "data": {
            "text/plain": [
              "'Assignment successfully submitted'"
            ]
          },
          "execution_count": 4,
          "metadata": {},
          "output_type": "execute_result"
        }
      ],
      "source": [
        "# @title #### 10. Menebak Komponen Streamlit yang Tepat\n",
        "from rggrader import submit\n",
        "\n",
        "# Deskripsi soal:\n",
        "# Streamlit memiliki berbagai komponen interaktif seperti text input, tombol, dan dropdown.\n",
        "# Pilih komponen yang paling sesuai dengan deskripsi di bawah ini.\n",
        "\n",
        "# Soal:\n",
        "# 1. Komponen apa yang digunakan untuk meminta pengguna memasukkan teks?\n",
        "# 2. Komponen apa yang digunakan untuk membuat tombol yang bisa ditekan oleh pengguna?\n",
        "# 3. Komponen apa yang digunakan untuk membuat dropdown list pilihan?\n",
        "\n",
        "# TODO: Buatlah fungsi `streamlit_component` yang menerima nomor soal sebagai input dan\n",
        "# mengembalikan nama komponen Streamlit yang sesuai (misalnya \"st.text_input\", \"st.button\", dll).\n",
        "# Lengkapi kode fungsi ini agar dapat memberikan jawaban yang benar.\n",
        "\n",
        "def streamlit_component(question_number):\n",
        "    # ---- Tulis kode kamu di bawah ini ----\n",
        "    if question_number == 1:\n",
        "        return \"st.text_input\"\n",
        "    elif question_number == 2: \n",
        "        return \"st.button\"\n",
        "    elif question_number == 3:\n",
        "        return \"st.selectbox\"\n",
        "    else:\n",
        "        return None  # Ganti dengan hasil yang sesuai\n",
        "\n",
        "# Outputkan hasil untuk setiap soal\n",
        "print(f\"Soal 1: {streamlit_component(1)}\")\n",
        "print(f\"Soal 2: {streamlit_component(2)}\")\n",
        "print(f\"Soal 3: {streamlit_component(3)}\")\n",
        "\n",
        "# Submit Method\n",
        "assignment_id = \"05-streamlit\"\n",
        "question_id = \"01-streamlit-component\"\n",
        "submit(student_id, name, assignment_id, str(streamlit_component(1)), question_id)\n"
      ]
    }
  ],
  "metadata": {
    "colab": {
      "provenance": []
    },
    "kernelspec": {
      "display_name": "myenv",
      "language": "python",
      "name": "python3"
    },
    "language_info": {
      "codemirror_mode": {
        "name": "ipython",
        "version": 3
      },
      "file_extension": ".py",
      "mimetype": "text/x-python",
      "name": "python",
      "nbconvert_exporter": "python",
      "pygments_lexer": "ipython3",
      "version": "3.13.2"
    }
  },
  "nbformat": 4,
  "nbformat_minor": 5
}
